{
 "cells": [
  {
   "cell_type": "code",
   "execution_count": 4,
   "metadata": {},
   "outputs": [
    {
     "name": "stdout",
     "output_type": "stream",
     "text": [
      "Total votes: 3521001\n"
     ]
    }
   ],
   "source": [
    "# Input Libraries\n",
    "import csv\n",
    "import os\n",
    "\n",
    "# Path of the file\n",
    "path = \"03-Python_Homework_Instructions_PyPoll_Resources_election_data.csv\"\n",
    "\n",
    "# Join the path\n",
    "csvpath = os.path.join(path)\n",
    "\n",
    "# Empty Lists\n",
    "num_votes = []\n",
    "percent_votes = []\n",
    "candidates = []\n",
    "\n",
    "# Open and read the csv file\n",
    "with open(path, newline = \"\") as csv_file:\n",
    "    csvreader = csv.reader(csv_file, delimiter = \",\")\n",
    "    \n",
    "\n",
    "    # Skip the header to iterate through rows\n",
    "    header = next(csvreader)\n",
    "\n",
    "    # Iterate through rows and append the total votes to its corresponding list\n",
    "    for row in csvreader:\n",
    "        num_votes.append(row[0])\n",
    "        \n",
    "# The total number of votes cast        \n",
    "print(f\"Total votes: {len(num_votes)}\")\n",
    "\n",
    "# A complete list of candidates who received votes\n",
    "\n",
    "\n",
    "# The percentage of votes each candidate won\n",
    "\n",
    "\n",
    "# The total number of votes each candidate won\n",
    "\n",
    "\n",
    "# The winner of the election based on popular vote.\n",
    "\n",
    "\n",
    "\n",
    "\n",
    "# As an example, your analysis should look similar to the one below:"
   ]
  }
 ],
 "metadata": {
  "kernelspec": {
   "display_name": "Python 3",
   "language": "python",
   "name": "python3"
  },
  "language_info": {
   "codemirror_mode": {
    "name": "ipython",
    "version": 3
   },
   "file_extension": ".py",
   "mimetype": "text/x-python",
   "name": "python",
   "nbconvert_exporter": "python",
   "pygments_lexer": "ipython3",
   "version": "3.6.5"
  }
 },
 "nbformat": 4,
 "nbformat_minor": 2
}
