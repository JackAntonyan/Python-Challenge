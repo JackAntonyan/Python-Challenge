{
 "cells": [
  {
   "cell_type": "code",
   "execution_count": 3,
   "metadata": {},
   "outputs": [
    {
     "name": "stdout",
     "output_type": "stream",
     "text": [
      "Election results\n",
      "Total Votes: 3521001\n",
      "Khan: %63.0 (2218231)\n",
      "Correy: %20.0 (704200)\n",
      "Li: %14.0 (492940)\n",
      "O'Tooley: %3.0 (105630)\n",
      "Winner: Khan\n"
     ]
    }
   ],
   "source": [
    "# Input Libraries\n",
    "import os\n",
    "import csv\n",
    "\n",
    "# Path of the file\n",
    "path = \"03-Python_Homework_Instructions_PyPoll_Resources_election_data.csv\"\n",
    "\n",
    "csvpath = os.path.join(path)\n",
    "\n",
    "# Empty lists for candidate names, number of votes and percents\n",
    "candidates = []\n",
    "num_votes = []\n",
    "percent_votes = []\n",
    "\n",
    "# A counter for the total number of votes \n",
    "total_votes = 0\n",
    "\n",
    "# Open and read the csv file\n",
    "with open(path, newline = \"\") as csvfile:\n",
    "    csvreader = csv.reader(csvfile, delimiter = \",\")\n",
    "    # Skip the header to iterate through rows\n",
    "    header = next(csvreader)\n",
    "\n",
    "     # Add to our vote-counter to find the total votes\n",
    "    for row in csvreader:\n",
    "         \n",
    "        total_votes += 1 \n",
    "\n",
    "      # Checking the names of the candidates\n",
    "        if row[2] not in candidates:\n",
    "            candidates.append(row[2])\n",
    "            index = candidates.index(row[2])\n",
    "            num_votes.append(1)\n",
    "        else:\n",
    "            index = candidates.index(row[2])\n",
    "            num_votes[index] += 1\n",
    "    \n",
    "    # Add to percent_votes list \n",
    "    for votes in num_votes:\n",
    "        percentage = round(votes/total_votes*100,3)\n",
    "        percent_votes.append(percentage)\n",
    "    \n",
    "    # Find the winning candidate\n",
    "    winner = max(num_votes)\n",
    "    index = num_votes.index(winner)\n",
    "    winning_candidate = candidates[index]\n",
    "\n",
    "\n",
    "# Displaying results\n",
    "print(\"Election results\")\n",
    "print(f\"Total Votes: {str(total_votes)}\")\n",
    "for i in range(len(candidates)):\n",
    "    print(f\"{candidates[i]}: %{str(percent_votes[i])} ({str(num_votes[i])})\")\n",
    "print(f\"Winner: {winning_candidate}\")\n",
    "\n",
    "# Writing the text file\n",
    "with open(\"PyPoll Final Results.txt\", \"w\") as file:\n",
    "    file.write(\"Election results\")\n",
    "    file.write(f\"\\n\")\n",
    "    file.write(f\"Total Votes: {str(total_votes)}\")\n",
    "    file.write(f\"\\n\")\n",
    "    for i in range(len(candidates)):\n",
    "        line = str(f\"{candidates[i]}: {str(percent_votes[i])} ({str(num_votes[i])})\")\n",
    "        file.write('{}\\n'.format(line))\n",
    "    file.write(f\"Winner: {winning_candidate}\")"
   ]
  },
  {
   "cell_type": "code",
   "execution_count": null,
   "metadata": {},
   "outputs": [],
   "source": []
  }
 ],
 "metadata": {
  "kernelspec": {
   "display_name": "Python 3",
   "language": "python",
   "name": "python3"
  },
  "language_info": {
   "codemirror_mode": {
    "name": "ipython",
    "version": 3
   },
   "file_extension": ".py",
   "mimetype": "text/x-python",
   "name": "python",
   "nbconvert_exporter": "python",
   "pygments_lexer": "ipython3",
   "version": "3.6.8"
  }
 },
 "nbformat": 4,
 "nbformat_minor": 4
}
